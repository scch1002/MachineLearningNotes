{
 "cells": [
  {
   "cell_type": "markdown",
   "metadata": {},
   "source": [
    "[Youtube video on Accuracy, Recall and Percision](https://www.youtube.com/watch?v=RYFViaaJxE8)"
   ]
  },
  {
   "cell_type": "markdown",
   "metadata": {},
   "source": [
    "Binary Classification: Positive or Negative\n",
    "\n",
    "Possible Classification Outcomes: <br>\n",
    "TN True Negative <br>\n",
    "TP True Positive <br>\n",
    "FN False Negative <br>\n",
    "FP False Positive <br>"
   ]
  },
  {
   "cell_type": "markdown",
   "metadata": {},
   "source": [
    "Accuracy \n",
    "\\begin{equation}\n",
    "Accuracy = \\frac{TP + TN}{TP + TN + FP + FN}\n",
    "\\end{equation}"
   ]
  },
  {
   "cell_type": "markdown",
   "metadata": {},
   "source": [
    "Recall\n",
    "\\begin{equation}\n",
    "Recall = \\frac{TP}{TP + FN}\n",
    "\\end{equation}"
   ]
  },
  {
   "cell_type": "markdown",
   "metadata": {},
   "source": [
    "Precision\n",
    "\\begin{equation} \n",
    "Percision = \\frac{TP}{TP + FP}\n",
    "\\end{equation}"
   ]
  },
  {
   "cell_type": "markdown",
   "metadata": {},
   "source": [
    "F1 Score\n",
    "\\begin{equation}\n",
    "F1 Score = 2 * \\frac{Percision*Recall}{Percision + Recall}\n",
    "\\end{equation}"
   ]
  }
 ],
 "metadata": {
  "kernelspec": {
   "display_name": "Python 3",
   "language": "python",
   "name": "python3"
  },
  "language_info": {
   "codemirror_mode": {
    "name": "ipython",
    "version": 3
   },
   "file_extension": ".py",
   "mimetype": "text/x-python",
   "name": "python",
   "nbconvert_exporter": "python",
   "pygments_lexer": "ipython3",
   "version": "3.7.6"
  }
 },
 "nbformat": 4,
 "nbformat_minor": 4
}
